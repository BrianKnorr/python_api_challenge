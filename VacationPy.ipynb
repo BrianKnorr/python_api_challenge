{
 "cells": [
  {
   "cell_type": "code",
   "execution_count": 1,
   "metadata": {},
   "outputs": [],
   "source": [
    "# Dependencies and Setup\n",
    "import matplotlib.pyplot as plt\n",
    "import pandas as pd\n",
    "import numpy as np\n",
    "import requests\n",
    "import gmaps\n",
    "import os\n",
    "\n",
    "# Import API key\n",
    "from config import g_key"
   ]
  },
  {
   "cell_type": "code",
   "execution_count": 2,
   "metadata": {},
   "outputs": [
    {
     "data": {
      "text/html": [
       "<div>\n",
       "<style scoped>\n",
       "    .dataframe tbody tr th:only-of-type {\n",
       "        vertical-align: middle;\n",
       "    }\n",
       "\n",
       "    .dataframe tbody tr th {\n",
       "        vertical-align: top;\n",
       "    }\n",
       "\n",
       "    .dataframe thead th {\n",
       "        text-align: right;\n",
       "    }\n",
       "</style>\n",
       "<table border=\"1\" class=\"dataframe\">\n",
       "  <thead>\n",
       "    <tr style=\"text-align: right;\">\n",
       "      <th></th>\n",
       "      <th>Unnamed: 0</th>\n",
       "      <th>city</th>\n",
       "      <th>cloud (%)</th>\n",
       "      <th>country</th>\n",
       "      <th>date</th>\n",
       "      <th>humidity (%)</th>\n",
       "      <th>lat</th>\n",
       "      <th>lng</th>\n",
       "      <th>max temp (F)</th>\n",
       "      <th>wind (mph)</th>\n",
       "    </tr>\n",
       "  </thead>\n",
       "  <tbody>\n",
       "    <tr>\n",
       "      <th>0</th>\n",
       "      <td>0</td>\n",
       "      <td>Rikitea</td>\n",
       "      <td>78</td>\n",
       "      <td>PF</td>\n",
       "      <td>1652046763</td>\n",
       "      <td>77</td>\n",
       "      <td>-23.1203</td>\n",
       "      <td>-134.9692</td>\n",
       "      <td>24.65</td>\n",
       "      <td>8.80</td>\n",
       "    </tr>\n",
       "    <tr>\n",
       "      <th>1</th>\n",
       "      <td>1</td>\n",
       "      <td>Castro</td>\n",
       "      <td>2</td>\n",
       "      <td>BR</td>\n",
       "      <td>1652046763</td>\n",
       "      <td>88</td>\n",
       "      <td>-24.7911</td>\n",
       "      <td>-50.0119</td>\n",
       "      <td>12.42</td>\n",
       "      <td>1.74</td>\n",
       "    </tr>\n",
       "    <tr>\n",
       "      <th>2</th>\n",
       "      <td>2</td>\n",
       "      <td>Vaini</td>\n",
       "      <td>20</td>\n",
       "      <td>TO</td>\n",
       "      <td>1652046763</td>\n",
       "      <td>69</td>\n",
       "      <td>-21.2000</td>\n",
       "      <td>-175.2000</td>\n",
       "      <td>26.09</td>\n",
       "      <td>4.12</td>\n",
       "    </tr>\n",
       "    <tr>\n",
       "      <th>3</th>\n",
       "      <td>3</td>\n",
       "      <td>Dhidhdhoo</td>\n",
       "      <td>94</td>\n",
       "      <td>MV</td>\n",
       "      <td>1652046764</td>\n",
       "      <td>70</td>\n",
       "      <td>6.8833</td>\n",
       "      <td>73.1000</td>\n",
       "      <td>29.38</td>\n",
       "      <td>7.96</td>\n",
       "    </tr>\n",
       "    <tr>\n",
       "      <th>4</th>\n",
       "      <td>4</td>\n",
       "      <td>Khatanga</td>\n",
       "      <td>45</td>\n",
       "      <td>RU</td>\n",
       "      <td>1652046764</td>\n",
       "      <td>96</td>\n",
       "      <td>71.9667</td>\n",
       "      <td>102.5000</td>\n",
       "      <td>-15.21</td>\n",
       "      <td>3.98</td>\n",
       "    </tr>\n",
       "  </tbody>\n",
       "</table>\n",
       "</div>"
      ],
      "text/plain": [
       "   Unnamed: 0       city  cloud (%) country        date  humidity (%)  \\\n",
       "0           0    Rikitea         78      PF  1652046763            77   \n",
       "1           1     Castro          2      BR  1652046763            88   \n",
       "2           2      Vaini         20      TO  1652046763            69   \n",
       "3           3  Dhidhdhoo         94      MV  1652046764            70   \n",
       "4           4   Khatanga         45      RU  1652046764            96   \n",
       "\n",
       "       lat       lng  max temp (F)  wind (mph)  \n",
       "0 -23.1203 -134.9692         24.65        8.80  \n",
       "1 -24.7911  -50.0119         12.42        1.74  \n",
       "2 -21.2000 -175.2000         26.09        4.12  \n",
       "3   6.8833   73.1000         29.38        7.96  \n",
       "4  71.9667  102.5000        -15.21        3.98  "
      ]
     },
     "execution_count": 2,
     "metadata": {},
     "output_type": "execute_result"
    }
   ],
   "source": [
    "weather = 'output\\weather_data.csv'\n",
    "city_data=pd.read_csv(weather)\n",
    "city_data.head()"
   ]
  },
  {
   "cell_type": "code",
   "execution_count": 4,
   "metadata": {},
   "outputs": [
    {
     "data": {
      "text/plain": [
       "100"
      ]
     },
     "execution_count": 4,
     "metadata": {},
     "output_type": "execute_result"
    }
   ],
   "source": [
    "# Determan max humidity level in the city data frame:\n",
    "max_hum=city_data['humidity (%)'].max()\n",
    "max_hum"
   ]
  },
  {
   "cell_type": "code",
   "execution_count": 5,
   "metadata": {},
   "outputs": [],
   "source": [
    "# Configure gmaps with API key:\n",
    "gmaps.configure(api_key=g_key)"
   ]
  },
  {
   "cell_type": "code",
   "execution_count": 6,
   "metadata": {},
   "outputs": [],
   "source": [
    "# Store 'Lat' and 'Lng' into  locations: \n",
    "city_data=city_data.dropna()\n",
    "locations=city_data[['lat', 'lng']].astype(float)\n",
    "\n",
    "# Convert humidity level to float and store:\n",
    "humidity_rate=city_data['humidity (%)'].astype(float)"
   ]
  },
  {
   "cell_type": "code",
   "execution_count": null,
   "metadata": {},
   "outputs": [],
   "source": []
  }
 ],
 "metadata": {
  "interpreter": {
   "hash": "21bfaabeb5f90dcb35f03e41cd0a17fbadd35308efdf98a46f30b833cf085000"
  },
  "kernelspec": {
   "display_name": "Python 3.9.7 ('base')",
   "language": "python",
   "name": "python3"
  },
  "language_info": {
   "codemirror_mode": {
    "name": "ipython",
    "version": 3
   },
   "file_extension": ".py",
   "mimetype": "text/x-python",
   "name": "python",
   "nbconvert_exporter": "python",
   "pygments_lexer": "ipython3",
   "version": "3.9.7"
  },
  "orig_nbformat": 4
 },
 "nbformat": 4,
 "nbformat_minor": 2
}
